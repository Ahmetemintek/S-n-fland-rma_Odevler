{
 "cells": [
  {
   "cell_type": "markdown",
   "metadata": {},
   "source": [
    "## Bu ödevde, bir önceki derste Titanic verileri ile oluşturduğunuz modelin performansını ölçeceksiniz. Bu ödevi tamamlamak için, aşağıdaki görevlerin çözümlerini içeren bir Jupyter not defterini link olarak gönderin. Kafanıza takılan konuları mentörünüzle konuşabilir ya da ofis saatinde Slack üzerinden sorabilirsiniz.\n",
    "\n",
    "Modelinizin performansına bu derste öğrendiğiniz metriklerlerle değerlendiriniz.\n",
    "ROC eğrisi ve Hassasiyet/Duyarlılık Eğrisini farklı \"c\" değerleri için çizdirin."
   ]
  },
  {
   "cell_type": "code",
   "execution_count": 2,
   "metadata": {},
   "outputs": [],
   "source": [
    "import numpy as np\n",
    "import pandas as pd\n",
    "from sklearn.linear_model import LogisticRegression\n",
    "from sklearn.model_selection import train_test_split\n",
    "import matplotlib.pyplot as plt\n",
    "import seaborn as sns"
   ]
  },
  {
   "cell_type": "code",
   "execution_count": 3,
   "metadata": {},
   "outputs": [
    {
     "data": {
      "text/plain": [
       "Index(['PassengerId', 'Survived', 'Pclass', 'Name', 'Sex', 'Age', 'SibSp',\n",
       "       'Parch', 'Ticket', 'Fare', 'Cabin', 'Embarked'],\n",
       "      dtype='object')"
      ]
     },
     "execution_count": 3,
     "metadata": {},
     "output_type": "execute_result"
    }
   ],
   "source": [
    "titanic= pd.read_csv(\"Desktop/Bootcamp Ödevler/Sınıflandırma/train.csv\")\n",
    "titanic.columns"
   ]
  },
  {
   "cell_type": "code",
   "execution_count": 4,
   "metadata": {},
   "outputs": [],
   "source": [
    "titanic[\"Age\"].fillna(titanic[\"Age\"].mean(), inplace=True, axis=0) "
   ]
  },
  {
   "cell_type": "code",
   "execution_count": 5,
   "metadata": {},
   "outputs": [
    {
     "data": {
      "text/plain": [
       "Index(['PassengerId', 'Survived', 'Pclass', 'Name', 'Age', 'SibSp', 'Parch',\n",
       "       'Ticket', 'Fare', 'Cabin', 'Embarked_C', 'Embarked_Q', 'Embarked_S',\n",
       "       'Sex_female', 'Sex_male'],\n",
       "      dtype='object')"
      ]
     },
     "execution_count": 5,
     "metadata": {},
     "output_type": "execute_result"
    }
   ],
   "source": [
    "category_col= [\"Embarked\", \"Sex\"]\n",
    "df= pd.concat([titanic, pd.get_dummies(titanic[category_col])], axis=1)\n",
    "df.drop(category_col, inplace=True, axis=1)\n",
    "df.columns"
   ]
  },
  {
   "cell_type": "markdown",
   "metadata": {},
   "source": [
    "### Logistic Regression:"
   ]
  },
  {
   "cell_type": "code",
   "execution_count": 6,
   "metadata": {},
   "outputs": [
    {
     "name": "stderr",
     "output_type": "stream",
     "text": [
      "C:\\ProgramData\\Anaconda3\\lib\\site-packages\\sklearn\\linear_model\\logistic.py:432: FutureWarning: Default solver will be changed to 'lbfgs' in 0.22. Specify a solver to silence this warning.\n",
      "  FutureWarning)\n"
     ]
    },
    {
     "data": {
      "text/plain": [
       "LogisticRegression(C=1.0, class_weight=None, dual=False, fit_intercept=True,\n",
       "                   intercept_scaling=1, l1_ratio=None, max_iter=100,\n",
       "                   multi_class='warn', n_jobs=None, penalty='l2',\n",
       "                   random_state=None, solver='warn', tol=0.0001, verbose=0,\n",
       "                   warm_start=False)"
      ]
     },
     "execution_count": 6,
     "metadata": {},
     "output_type": "execute_result"
    }
   ],
   "source": [
    "ozellikler= [\"Pclass\",\"Age\", \"Embarked_C\", \"Embarked_Q\", \"Embarked_S\", \"Sex_female\", \"Sex_male\"]\n",
    "Y= df[\"Survived\"]\n",
    "X= df[ozellikler]\n",
    "\n",
    "X_train, X_test, Y_train, Y_test = train_test_split(X,Y, test_size=0.2, random_state=111)\n",
    "\n",
    "log_reg= LogisticRegression()\n",
    "log_reg.fit(X_train, Y_train)"
   ]
  },
  {
   "cell_type": "code",
   "execution_count": 7,
   "metadata": {},
   "outputs": [
    {
     "name": "stdout",
     "output_type": "stream",
     "text": [
      "One vs Rest\n",
      "------------------------------\n",
      "Eğitim kümesi doğruluğu: 0.7963483146067416\n",
      "Test kümesi doğruluğu: 0.7597765363128491\n"
     ]
    }
   ],
   "source": [
    "egitim_dogruluk= log_reg.score(X_train, Y_train)\n",
    "test_dogruluk= log_reg.score(X_test, Y_test)\n",
    "\n",
    "print(\"One vs Rest\", \"-\"*30, \"Eğitim kümesi doğruluğu: {}\".format(egitim_dogruluk),\n",
    "        \"Test kümesi doğruluğu: {}\".format(test_dogruluk), sep=\"\\n\")"
   ]
  },
  {
   "cell_type": "code",
   "execution_count": 8,
   "metadata": {},
   "outputs": [
    {
     "name": "stdout",
     "output_type": "stream",
     "text": [
      "Multinomial\n",
      "------------------------------\n",
      "Eğitim kümesi doğruluğu: 0.800561797752809\n",
      "Test kümesi doğruluğu: 0.7653631284916201\n"
     ]
    }
   ],
   "source": [
    "#Multinomial yöntem:\n",
    "lr_mnm= LogisticRegression(multi_class=\"multinomial\", solver=\"lbfgs\")\n",
    "lr_mnm.fit(X_train, Y_train)\n",
    "\n",
    "X_train, X_test, Y_train, Y_test= train_test_split(X,Y, test_size=0.2, random_state=111)\n",
    "egitim_dogruluk= lr_mnm.score(X_train, Y_train)\n",
    "test_dogruluk= lr_mnm.score(X_test, Y_test)\n",
    "\n",
    "print(\"Multinomial\", \"-\"*30, \"Eğitim kümesi doğruluğu: {}\".format(egitim_dogruluk),\n",
    "        \"Test kümesi doğruluğu: {}\".format(test_dogruluk), sep=\"\\n\")\n"
   ]
  },
  {
   "cell_type": "code",
   "execution_count": 9,
   "metadata": {},
   "outputs": [],
   "source": [
    "#Tahminler:\n",
    "tahmin_egitim= lr_mnm.predict(X_train)\n",
    "tahmin_test= lr_mnm.predict(X_test)\n",
    "\n",
    "tahmin_test_ihtimal= lr_mnm.predict_proba(X_train) #?????\n"
   ]
  },
  {
   "cell_type": "code",
   "execution_count": 10,
   "metadata": {
    "scrolled": true
   },
   "outputs": [
    {
     "name": "stdout",
     "output_type": "stream",
     "text": [
      "Eğitim kümesi hata matrisi: \n",
      "------------------------------\n",
      "[[372  64]\n",
      " [ 78 198]]\n",
      "Test kümesi hata matrisi: \n",
      "------------------------------\n",
      "[[92 21]\n",
      " [21 45]]\n",
      "True Negative: 92\n",
      "False Positive: 21\n",
      "False Negative: 21\n",
      "True Positive: 45\n"
     ]
    }
   ],
   "source": [
    "from sklearn.metrics import confusion_matrix\n",
    "\n",
    "hata_matrisi_egitim= confusion_matrix(Y_train, tahmin_egitim)\n",
    "hata_matrisi_test= confusion_matrix(Y_test, tahmin_test)\n",
    "\n",
    "print(\"Eğitim kümesi hata matrisi: \", \"-\"*30, hata_matrisi_egitim, \n",
    "      \"Test kümesi hata matrisi: \", \"-\"*30, hata_matrisi_test, sep=\"\\n\")\n",
    "\n",
    "TN= hata_matrisi_test[0][0]\n",
    "FP= hata_matrisi_test[0][1]\n",
    "FN= hata_matrisi_test[1][0]\n",
    "TP= hata_matrisi_test[1][1]\n",
    "\n",
    "print(\"True Negative: {}\".format(TN))\n",
    "print(\"False Positive: {}\".format(FP))\n",
    "print(\"False Negative: {}\".format(FN))\n",
    "print(\"True Positive: {}\".format(TP))"
   ]
  },
  {
   "cell_type": "code",
   "execution_count": 11,
   "metadata": {},
   "outputs": [
    {
     "name": "stdout",
     "output_type": "stream",
     "text": [
      "Modelden alınan doğruluk değeri :  0.7653631284916201\n",
      "Hesaplanan doğruluk değeri      :  0.7653631284916201\n",
      "accuracy_score() değeri         :  0.7653631284916201\n"
     ]
    }
   ],
   "source": [
    "from sklearn.metrics import accuracy_score\n",
    "\n",
    "print(\"Modelden alınan doğruluk değeri : \",  lr_mnm.score(X_test, Y_test))\n",
    "print(\"Hesaplanan doğruluk değeri      : \",  (TN + TP)/(FN + FP + TN + TP))\n",
    "print(\"accuracy_score() değeri         : \",  accuracy_score(Y_test, tahmin_test))"
   ]
  },
  {
   "cell_type": "code",
   "execution_count": 12,
   "metadata": {},
   "outputs": [
    {
     "name": "stdout",
     "output_type": "stream",
     "text": [
      "Hesaplanan doğruluk değeri      :  0.6818181818181818\n",
      "precision_score() değeri        :  0.6818181818181818\n"
     ]
    }
   ],
   "source": [
    "from sklearn.metrics import precision_score\n",
    "\n",
    "print(\"Hesaplanan doğruluk değeri      : \",  (TP)/(FP + TP))\n",
    "print(\"precision_score() değeri        : \",  precision_score(Y_test, tahmin_test))"
   ]
  },
  {
   "cell_type": "code",
   "execution_count": 13,
   "metadata": {},
   "outputs": [
    {
     "name": "stdout",
     "output_type": "stream",
     "text": [
      "Hesaplanan doğruluk değeri   :  0.6818181818181818\n",
      "recall_score() değeri        :  0.6818181818181818\n"
     ]
    }
   ],
   "source": [
    "from sklearn.metrics import recall_score\n",
    "\n",
    "print(\"Hesaplanan doğruluk değeri   : \",  (TP)/(TP + FN))\n",
    "print(\"recall_score() değeri        : \",  recall_score(Y_test, tahmin_test))"
   ]
  },
  {
   "cell_type": "code",
   "execution_count": 14,
   "metadata": {},
   "outputs": [
    {
     "name": "stdout",
     "output_type": "stream",
     "text": [
      "Hesaplanan f1 skoru   :  0.6818181818181818\n",
      "f1_score() değeri     :  0.6818181818181818\n"
     ]
    }
   ],
   "source": [
    "from sklearn.metrics import f1_score\n",
    "\n",
    "hassasiyet_degeri = precision_score(Y_test, tahmin_test)\n",
    "duyarlılık_değeri = recall_score(Y_test, tahmin_test)\n",
    "\n",
    "\n",
    "print(\"Hesaplanan f1 skoru   : \",  2*((hassasiyet_degeri*duyarlılık_değeri)/(hassasiyet_degeri + duyarlılık_değeri)))\n",
    "print(\"f1_score() değeri     : \",  f1_score(Y_test, tahmin_test))"
   ]
  },
  {
   "cell_type": "code",
   "execution_count": 15,
   "metadata": {},
   "outputs": [
    {
     "name": "stdout",
     "output_type": "stream",
     "text": [
      "              precision    recall  f1-score   support\n",
      "\n",
      "           0       0.81      0.81      0.81       113\n",
      "           1       0.68      0.68      0.68        66\n",
      "\n",
      "    accuracy                           0.77       179\n",
      "   macro avg       0.75      0.75      0.75       179\n",
      "weighted avg       0.77      0.77      0.77       179\n",
      "\n",
      "f1_score() değeri        : 0.68\n",
      "recall_score() değeri    : 0.68\n",
      "precision_score() değeri : 0.68\n",
      "\n",
      "\n",
      "Hassasiyet : [0.81415929 0.68181818]\n",
      "Duyarlılık : [0.81415929 0.68181818]\n",
      "F1 Skoru   : [0.81415929 0.68181818]\n"
     ]
    }
   ],
   "source": [
    "from sklearn.metrics import classification_report, precision_recall_fscore_support\n",
    "\n",
    "print(classification_report(Y_test,tahmin_test) )\n",
    "\n",
    "print(\"f1_score() değeri        : {:.2f}\".format(f1_score(Y_test, tahmin_test)))\n",
    "print(\"recall_score() değeri    : {:.2f}\".format(recall_score(Y_test, tahmin_test)))\n",
    "print(\"precision_score() değeri : {:.2f}\".format(precision_score(Y_test, tahmin_test)))\n",
    "print('\\n')\n",
    "\n",
    "metrikler =  precision_recall_fscore_support(Y_test, tahmin_test)\n",
    "print(\"Hassasiyet :\" , metrikler[0]) \n",
    "print(\"Duyarlılık :\" , metrikler[1]) \n",
    "print(\"F1 Skoru   :\" , metrikler[2]) "
   ]
  },
  {
   "cell_type": "markdown",
   "metadata": {},
   "source": [
    "## ROC eğrisi (AUC Değeri):"
   ]
  },
  {
   "cell_type": "code",
   "execution_count": 16,
   "metadata": {},
   "outputs": [
    {
     "data": {
      "image/png": "[encoded data removed]",
      "text/plain": [
       "<Figure size 432x288 with 1 Axes>"
      ]
     },
     "metadata": {
      "needs_background": "light"
     },
     "output_type": "display_data"
    },
    {
     "name": "stdout",
     "output_type": "stream",
     "text": [
      "AUC Değeri: 0.8195226602306248\n"
     ]
    }
   ],
   "source": [
    "from sklearn.metrics import roc_curve, roc_auc_score\n",
    "tahmin_test_ihtimal= lr_mnm.predict_proba(X_test)[:,1] # Anlamı nedir?????\n",
    "\n",
    "fpr, tpr, thereshold= roc_curve(Y_test, tahmin_test_ihtimal)\n",
    "\n",
    "plt.plot(fpr, tpr, \"k-\")\n",
    "plt.plot(fpr, tpr)\n",
    "plt.title(\"ROC Curve\")\n",
    "plt.xlabel(\"False Positive Rate\")\n",
    "plt.ylabel(\"True Positive Rate\")\n",
    "plt.show()\n",
    "\n",
    "print(\"AUC Değeri: {}\".format(roc_auc_score(Y_test, tahmin_test_ihtimal)))"
   ]
  },
  {
   "cell_type": "markdown",
   "metadata": {},
   "source": [
    "## Hassasiyet Duyarlılık Eğrisi: (Precision Recall Curve)"
   ]
  },
  {
   "cell_type": "code",
   "execution_count": 17,
   "metadata": {},
   "outputs": [
    {
     "data": {
      "image/png": "[encoded data removed]",
      "text/plain": [
       "<Figure size 432x288 with 1 Axes>"
      ]
     },
     "metadata": {
      "needs_background": "light"
     },
     "output_type": "display_data"
    }
   ],
   "source": [
    "from sklearn.metrics import precision_recall_curve\n",
    "hassasiyet, duyarlılık, _= precision_recall_curve(Y_test, tahmin_test_ihtimal)\n",
    "\n",
    "plt.plot(hassasiyet, duyarlılık)\n",
    "plt.title(\"Precision Recall Curve\")\n",
    "plt.xlabel(\"Hassasiyet\")\n",
    "plt.ylabel(\"Duyarlılık\")\n",
    "plt.show()\n"
   ]
  },
  {
   "cell_type": "markdown",
   "metadata": {},
   "source": [
    "## Logaritmik Kayıp (Log Loss)"
   ]
  },
  {
   "cell_type": "code",
   "execution_count": 18,
   "metadata": {},
   "outputs": [
    {
     "name": "stdout",
     "output_type": "stream",
     "text": [
      "Logaritmik Kayıp: 0.48006632127233734\n",
      "Hata Oranı 0.23463687150837986: \n"
     ]
    }
   ],
   "source": [
    "from sklearn.metrics import log_loss\n",
    "\n",
    "print(\"Logaritmik Kayıp: {}\".format(log_loss(Y_test, tahmin_test_ihtimal)))\n",
    "print(\"Hata Oranı {}: \".format(1- accuracy_score(Y_test, tahmin_test)) )"
   ]
  },
  {
   "cell_type": "code",
   "execution_count": null,
   "metadata": {},
   "outputs": [],
   "source": []
  }
 ],
 "metadata": {
  "kernelspec": {
   "display_name": "Python 3",
   "language": "python",
   "name": "python3"
  },
  "language_info": {
   "codemirror_mode": {
    "name": "ipython",
    "version": 3
   },
   "file_extension": ".py",
   "mimetype": "text/x-python",
   "name": "python",
   "nbconvert_exporter": "python",
   "pygments_lexer": "ipython3",
   "version": "3.7.4"
  }
 },
 "nbformat": 4,
 "nbformat_minor": 2
}
